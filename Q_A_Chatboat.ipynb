{
 "cells": [
  {
   "cell_type": "markdown",
   "id": "70a86744",
   "metadata": {},
   "source": [
    "## Create chat boat with openai and ollama \n",
    "\n",
    "Openai-->GPT-4o,GPT-4Turbo\n",
    "\n",
    "OLLAMA-->Open source -->LLAMA3,Gemma2,Mistral\n",
    "\n",
    "using apllication--langchain,langsmith,streamlit\n"
   ]
  },
  {
   "cell_type": "code",
   "execution_count": null,
   "id": "3b70bbaa",
   "metadata": {},
   "outputs": [],
   "source": [
    "!pip install -r requrements.txt"
   ]
  },
  {
   "cell_type": "code",
   "execution_count": null,
   "id": "9151fb59",
   "metadata": {},
   "outputs": [],
   "source": [
    "from dotenv import load_dotenv\n",
    "load_dotenv()\n",
    "import os\n",
    "from langchain_groq import ChatGroq\n",
    "import streamlit as st\n",
    "import openai\n",
    "\n",
    "from langchain_openai import ChatOpenai\n",
    "from langchain_core.output_parsers import StrOutputParser\n",
    "from langchain_core.prompt import ChatPromptTemplate\n",
    "\n",
    "# groq_api_key=os.getenv(\"Groq_key\")\n",
    "# llm=ChatGroq(groq_api_key=groq_api_key,model=\"llama-3.1-8b-instant\")\n",
    "# llm\n"
   ]
  }
 ],
 "metadata": {
  "kernelspec": {
   "display_name": ".venv",
   "language": "python",
   "name": "python3"
  },
  "language_info": {
   "codemirror_mode": {
    "name": "ipython",
    "version": 3
   },
   "file_extension": ".py",
   "mimetype": "text/x-python",
   "name": "python",
   "nbconvert_exporter": "python",
   "pygments_lexer": "ipython3",
   "version": "3.11.4"
  }
 },
 "nbformat": 4,
 "nbformat_minor": 5
}
